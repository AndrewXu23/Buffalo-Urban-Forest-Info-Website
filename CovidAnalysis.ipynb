{
  "nbformat": 4,
  "nbformat_minor": 0,
  "metadata": {
    "colab": {
      "provenance": [],
      "authorship_tag": "ABX9TyPaDzZPooVgt/I2zQfGOMKS",
      "include_colab_link": true
    },
    "kernelspec": {
      "name": "python3",
      "display_name": "Python 3"
    },
    "language_info": {
      "name": "python"
    }
  },
  "cells": [
    {
      "cell_type": "markdown",
      "metadata": {
        "id": "view-in-github",
        "colab_type": "text"
      },
      "source": [
        "<a href=\"https://colab.research.google.com/github/AndrewXu23/Buffalo-Urban-Forest-Info-Website/blob/main/CovidAnalysis.ipynb\" target=\"_parent\"><img src=\"https://colab.research.google.com/assets/colab-badge.svg\" alt=\"Open In Colab\"/></a>"
      ]
    },
    {
      "cell_type": "code",
      "execution_count": null,
      "metadata": {
        "id": "yIy_cOMSQlN2"
      },
      "outputs": [],
      "source": [
        "import pandas as pd\n",
        "import numpy as np\n",
        "from sklearn import preprocessing\n",
        "import matplotlib.pyplot as plt \n",
        "plt.rc(\"font\", size=14)\n",
        "from sklearn.linear_model import LogisticRegression\n",
        "from sklearn.model_selection import train_test_split\n",
        "import seaborn as sns\n",
        "sns.set(style=\"white\")\n",
        "sns.set(style=\"whitegrid\", color_codes=True)"
      ]
    },
    {
      "cell_type": "markdown",
      "source": [],
      "metadata": {
        "id": "rCJBLrHwupSz"
      }
    },
    {
      "cell_type": "code",
      "source": [
        "data = pd.read_csv('Covid-19-3.csv', header=0)\n",
        "data = data.dropna()\n",
        "print(data.shape)\n",
        "print(list(data.columns))"
      ],
      "metadata": {
        "id": "H9ZdTzORQ6No",
        "colab": {
          "base_uri": "https://localhost:8080/"
        },
        "outputId": "ad373f2d-7830-460c-dcab-c169807c1a48"
      },
      "execution_count": null,
      "outputs": [
        {
          "output_type": "stream",
          "name": "stdout",
          "text": [
            "(3710, 15)\n",
            "['Data as of', 'Start Date', 'End Date', 'State', 'Race', 'RaceInInt', 'CountOfDeaths', 'DistributionOfdeaths(%)', 'HighDeathRate', 'UWPopDistribution(%)', 'WPopDistribution(%)', 'COVID-19&UWPopDiff(%)', 'COVID-19&WPopDiff(%)', 'AgeGroup', 'AgeInInt']\n"
          ]
        }
      ]
    },
    {
      "cell_type": "code",
      "source": [
        "data.head()"
      ],
      "metadata": {
        "colab": {
          "base_uri": "https://localhost:8080/",
          "height": 565
        },
        "id": "KCJIROLIvBLj",
        "outputId": "fcb94c6c-9365-4869-a13b-8dac1a24b3d1"
      },
      "execution_count": null,
      "outputs": [
        {
          "output_type": "execute_result",
          "data": {
            "text/plain": [
              "   Data as of Start Date    End Date          State  \\\n",
              "0  10/19/2022   1/1/2020  10/15/2022  United States   \n",
              "1  10/19/2022   1/1/2020  10/15/2022  United States   \n",
              "2  10/19/2022   1/1/2020  10/15/2022  United States   \n",
              "3  10/19/2022   1/1/2020  10/15/2022  United States   \n",
              "4  10/19/2022   1/1/2020  10/15/2022  United States   \n",
              "\n",
              "                                                Race  RaceInInt  \\\n",
              "0                                 Non-Hispanic White          1   \n",
              "1                                 Non-Hispanic Black          2   \n",
              "2      Non-Hispanic American Indian or Alaska Native          3   \n",
              "3                                 Non-Hispanic Asian          4   \n",
              "4  Non-Hispanic Native Hawaiian or Other Pacific ...          5   \n",
              "\n",
              "   CountOfDeaths  DistributionOfdeaths(%)  HighDeathRate  \\\n",
              "0       691593.0                     65.2              1   \n",
              "1       149182.0                     14.1              1   \n",
              "2        11538.0                      1.1              0   \n",
              "3        33156.0                      3.1              0   \n",
              "4         2221.0                      0.2              0   \n",
              "\n",
              "   UWPopDistribution(%)  WPopDistribution(%)  COVID-19&UWPopDiff(%)  \\\n",
              "0                  59.7                 40.9                    5.5   \n",
              "1                  12.6                 13.5                    1.5   \n",
              "2                   0.7                  0.4                    0.4   \n",
              "3                   5.9                  9.6                   -2.8   \n",
              "4                   0.2                  0.2                    0.0   \n",
              "\n",
              "   COVID-19&WPopDiff(%)              AgeGroup  AgeInInt  \n",
              "0                  24.3  All ages, unadjusted        45  \n",
              "1                   0.6  All ages, unadjusted        45  \n",
              "2                   0.7  All ages, unadjusted        45  \n",
              "3                  -6.5  All ages, unadjusted        45  \n",
              "4                   0.0  All ages, unadjusted        45  "
            ],
            "text/html": [
              "\n",
              "  <div id=\"df-0dcc819c-01d7-4bba-a44d-937d9f673b2f\">\n",
              "    <div class=\"colab-df-container\">\n",
              "      <div>\n",
              "<style scoped>\n",
              "    .dataframe tbody tr th:only-of-type {\n",
              "        vertical-align: middle;\n",
              "    }\n",
              "\n",
              "    .dataframe tbody tr th {\n",
              "        vertical-align: top;\n",
              "    }\n",
              "\n",
              "    .dataframe thead th {\n",
              "        text-align: right;\n",
              "    }\n",
              "</style>\n",
              "<table border=\"1\" class=\"dataframe\">\n",
              "  <thead>\n",
              "    <tr style=\"text-align: right;\">\n",
              "      <th></th>\n",
              "      <th>Data as of</th>\n",
              "      <th>Start Date</th>\n",
              "      <th>End Date</th>\n",
              "      <th>State</th>\n",
              "      <th>Race</th>\n",
              "      <th>RaceInInt</th>\n",
              "      <th>CountOfDeaths</th>\n",
              "      <th>DistributionOfdeaths(%)</th>\n",
              "      <th>HighDeathRate</th>\n",
              "      <th>UWPopDistribution(%)</th>\n",
              "      <th>WPopDistribution(%)</th>\n",
              "      <th>COVID-19&amp;UWPopDiff(%)</th>\n",
              "      <th>COVID-19&amp;WPopDiff(%)</th>\n",
              "      <th>AgeGroup</th>\n",
              "      <th>AgeInInt</th>\n",
              "    </tr>\n",
              "  </thead>\n",
              "  <tbody>\n",
              "    <tr>\n",
              "      <th>0</th>\n",
              "      <td>10/19/2022</td>\n",
              "      <td>1/1/2020</td>\n",
              "      <td>10/15/2022</td>\n",
              "      <td>United States</td>\n",
              "      <td>Non-Hispanic White</td>\n",
              "      <td>1</td>\n",
              "      <td>691593.0</td>\n",
              "      <td>65.2</td>\n",
              "      <td>1</td>\n",
              "      <td>59.7</td>\n",
              "      <td>40.9</td>\n",
              "      <td>5.5</td>\n",
              "      <td>24.3</td>\n",
              "      <td>All ages, unadjusted</td>\n",
              "      <td>45</td>\n",
              "    </tr>\n",
              "    <tr>\n",
              "      <th>1</th>\n",
              "      <td>10/19/2022</td>\n",
              "      <td>1/1/2020</td>\n",
              "      <td>10/15/2022</td>\n",
              "      <td>United States</td>\n",
              "      <td>Non-Hispanic Black</td>\n",
              "      <td>2</td>\n",
              "      <td>149182.0</td>\n",
              "      <td>14.1</td>\n",
              "      <td>1</td>\n",
              "      <td>12.6</td>\n",
              "      <td>13.5</td>\n",
              "      <td>1.5</td>\n",
              "      <td>0.6</td>\n",
              "      <td>All ages, unadjusted</td>\n",
              "      <td>45</td>\n",
              "    </tr>\n",
              "    <tr>\n",
              "      <th>2</th>\n",
              "      <td>10/19/2022</td>\n",
              "      <td>1/1/2020</td>\n",
              "      <td>10/15/2022</td>\n",
              "      <td>United States</td>\n",
              "      <td>Non-Hispanic American Indian or Alaska Native</td>\n",
              "      <td>3</td>\n",
              "      <td>11538.0</td>\n",
              "      <td>1.1</td>\n",
              "      <td>0</td>\n",
              "      <td>0.7</td>\n",
              "      <td>0.4</td>\n",
              "      <td>0.4</td>\n",
              "      <td>0.7</td>\n",
              "      <td>All ages, unadjusted</td>\n",
              "      <td>45</td>\n",
              "    </tr>\n",
              "    <tr>\n",
              "      <th>3</th>\n",
              "      <td>10/19/2022</td>\n",
              "      <td>1/1/2020</td>\n",
              "      <td>10/15/2022</td>\n",
              "      <td>United States</td>\n",
              "      <td>Non-Hispanic Asian</td>\n",
              "      <td>4</td>\n",
              "      <td>33156.0</td>\n",
              "      <td>3.1</td>\n",
              "      <td>0</td>\n",
              "      <td>5.9</td>\n",
              "      <td>9.6</td>\n",
              "      <td>-2.8</td>\n",
              "      <td>-6.5</td>\n",
              "      <td>All ages, unadjusted</td>\n",
              "      <td>45</td>\n",
              "    </tr>\n",
              "    <tr>\n",
              "      <th>4</th>\n",
              "      <td>10/19/2022</td>\n",
              "      <td>1/1/2020</td>\n",
              "      <td>10/15/2022</td>\n",
              "      <td>United States</td>\n",
              "      <td>Non-Hispanic Native Hawaiian or Other Pacific ...</td>\n",
              "      <td>5</td>\n",
              "      <td>2221.0</td>\n",
              "      <td>0.2</td>\n",
              "      <td>0</td>\n",
              "      <td>0.2</td>\n",
              "      <td>0.2</td>\n",
              "      <td>0.0</td>\n",
              "      <td>0.0</td>\n",
              "      <td>All ages, unadjusted</td>\n",
              "      <td>45</td>\n",
              "    </tr>\n",
              "  </tbody>\n",
              "</table>\n",
              "</div>\n",
              "      <button class=\"colab-df-convert\" onclick=\"convertToInteractive('df-0dcc819c-01d7-4bba-a44d-937d9f673b2f')\"\n",
              "              title=\"Convert this dataframe to an interactive table.\"\n",
              "              style=\"display:none;\">\n",
              "        \n",
              "  <svg xmlns=\"http://www.w3.org/2000/svg\" height=\"24px\"viewBox=\"0 0 24 24\"\n",
              "       width=\"24px\">\n",
              "    <path d=\"M0 0h24v24H0V0z\" fill=\"none\"/>\n",
              "    <path d=\"M18.56 5.44l.94 2.06.94-2.06 2.06-.94-2.06-.94-.94-2.06-.94 2.06-2.06.94zm-11 1L8.5 8.5l.94-2.06 2.06-.94-2.06-.94L8.5 2.5l-.94 2.06-2.06.94zm10 10l.94 2.06.94-2.06 2.06-.94-2.06-.94-.94-2.06-.94 2.06-2.06.94z\"/><path d=\"M17.41 7.96l-1.37-1.37c-.4-.4-.92-.59-1.43-.59-.52 0-1.04.2-1.43.59L10.3 9.45l-7.72 7.72c-.78.78-.78 2.05 0 2.83L4 21.41c.39.39.9.59 1.41.59.51 0 1.02-.2 1.41-.59l7.78-7.78 2.81-2.81c.8-.78.8-2.07 0-2.86zM5.41 20L4 18.59l7.72-7.72 1.47 1.35L5.41 20z\"/>\n",
              "  </svg>\n",
              "      </button>\n",
              "      \n",
              "  <style>\n",
              "    .colab-df-container {\n",
              "      display:flex;\n",
              "      flex-wrap:wrap;\n",
              "      gap: 12px;\n",
              "    }\n",
              "\n",
              "    .colab-df-convert {\n",
              "      background-color: #E8F0FE;\n",
              "      border: none;\n",
              "      border-radius: 50%;\n",
              "      cursor: pointer;\n",
              "      display: none;\n",
              "      fill: #1967D2;\n",
              "      height: 32px;\n",
              "      padding: 0 0 0 0;\n",
              "      width: 32px;\n",
              "    }\n",
              "\n",
              "    .colab-df-convert:hover {\n",
              "      background-color: #E2EBFA;\n",
              "      box-shadow: 0px 1px 2px rgba(60, 64, 67, 0.3), 0px 1px 3px 1px rgba(60, 64, 67, 0.15);\n",
              "      fill: #174EA6;\n",
              "    }\n",
              "\n",
              "    [theme=dark] .colab-df-convert {\n",
              "      background-color: #3B4455;\n",
              "      fill: #D2E3FC;\n",
              "    }\n",
              "\n",
              "    [theme=dark] .colab-df-convert:hover {\n",
              "      background-color: #434B5C;\n",
              "      box-shadow: 0px 1px 3px 1px rgba(0, 0, 0, 0.15);\n",
              "      filter: drop-shadow(0px 1px 2px rgba(0, 0, 0, 0.3));\n",
              "      fill: #FFFFFF;\n",
              "    }\n",
              "  </style>\n",
              "\n",
              "      <script>\n",
              "        const buttonEl =\n",
              "          document.querySelector('#df-0dcc819c-01d7-4bba-a44d-937d9f673b2f button.colab-df-convert');\n",
              "        buttonEl.style.display =\n",
              "          google.colab.kernel.accessAllowed ? 'block' : 'none';\n",
              "\n",
              "        async function convertToInteractive(key) {\n",
              "          const element = document.querySelector('#df-0dcc819c-01d7-4bba-a44d-937d9f673b2f');\n",
              "          const dataTable =\n",
              "            await google.colab.kernel.invokeFunction('convertToInteractive',\n",
              "                                                     [key], {});\n",
              "          if (!dataTable) return;\n",
              "\n",
              "          const docLinkHtml = 'Like what you see? Visit the ' +\n",
              "            '<a target=\"_blank\" href=https://colab.research.google.com/notebooks/data_table.ipynb>data table notebook</a>'\n",
              "            + ' to learn more about interactive tables.';\n",
              "          element.innerHTML = '';\n",
              "          dataTable['output_type'] = 'display_data';\n",
              "          await google.colab.output.renderOutput(dataTable, element);\n",
              "          const docLink = document.createElement('div');\n",
              "          docLink.innerHTML = docLinkHtml;\n",
              "          element.appendChild(docLink);\n",
              "        }\n",
              "      </script>\n",
              "    </div>\n",
              "  </div>\n",
              "  "
            ]
          },
          "metadata": {},
          "execution_count": 113
        }
      ]
    },
    {
      "cell_type": "code",
      "source": [
        "data['Race'].unique()"
      ],
      "metadata": {
        "colab": {
          "base_uri": "https://localhost:8080/"
        },
        "id": "Kyw9Hv0UvPY7",
        "outputId": "020253ef-f2ac-41e5-c73a-56df956c8b38"
      },
      "execution_count": null,
      "outputs": [
        {
          "output_type": "execute_result",
          "data": {
            "text/plain": [
              "array(['Non-Hispanic White', 'Non-Hispanic Black',\n",
              "       'Non-Hispanic American Indian or Alaska Native',\n",
              "       'Non-Hispanic Asian',\n",
              "       'Non-Hispanic Native Hawaiian or Other Pacific Islander',\n",
              "       'Hispanic', 'Other'], dtype=object)"
            ]
          },
          "metadata": {},
          "execution_count": 115
        }
      ]
    },
    {
      "cell_type": "code",
      "source": [
        "data['RaceInInt'].unique()"
      ],
      "metadata": {
        "colab": {
          "base_uri": "https://localhost:8080/"
        },
        "id": "n8PgFYRQHHSh",
        "outputId": "8728e17d-373b-4fac-cc7a-fc9c3b5f8e49"
      },
      "execution_count": null,
      "outputs": [
        {
          "output_type": "execute_result",
          "data": {
            "text/plain": [
              "array([1, 2, 3, 4, 5, 6, 7])"
            ]
          },
          "metadata": {},
          "execution_count": 116
        }
      ]
    },
    {
      "cell_type": "code",
      "source": [
        "data['AgeGroup'].unique()"
      ],
      "metadata": {
        "colab": {
          "base_uri": "https://localhost:8080/"
        },
        "id": "7buDCyEb7lzB",
        "outputId": "776f8887-5e61-4bf6-cb6f-8b016b96a6fe"
      },
      "execution_count": null,
      "outputs": [
        {
          "output_type": "execute_result",
          "data": {
            "text/plain": [
              "array(['All ages, unadjusted', '35-44 years', '45-54 years',\n",
              "       '55-64 years', '75-84 years', '85 years and over', '65-74 years',\n",
              "       '25-34 years', '0-24 years', 'All ages, standardized'],\n",
              "      dtype=object)"
            ]
          },
          "metadata": {},
          "execution_count": 117
        }
      ]
    },
    {
      "cell_type": "code",
      "source": [
        "data['AgeInInt'].unique()"
      ],
      "metadata": {
        "colab": {
          "base_uri": "https://localhost:8080/"
        },
        "id": "6zTWTG3rHNfK",
        "outputId": "2bd4ee23-fccb-48f0-f407-68f0febffd63"
      },
      "execution_count": null,
      "outputs": [
        {
          "output_type": "execute_result",
          "data": {
            "text/plain": [
              "array([45, 40, 50, 60, 80, 90, 70, 30, 12])"
            ]
          },
          "metadata": {},
          "execution_count": 118
        }
      ]
    },
    {
      "cell_type": "code",
      "source": [
        "data['HighDeathRate'].value_counts()"
      ],
      "metadata": {
        "colab": {
          "base_uri": "https://localhost:8080/"
        },
        "id": "7xtLAeKlvkB3",
        "outputId": "04106f91-fa8a-48c1-bafd-23490599c5c5"
      },
      "execution_count": null,
      "outputs": [
        {
          "output_type": "execute_result",
          "data": {
            "text/plain": [
              "0    2626\n",
              "1    1084\n",
              "Name: HighDeathRate, dtype: int64"
            ]
          },
          "metadata": {},
          "execution_count": 119
        }
      ]
    },
    {
      "cell_type": "code",
      "source": [
        "sns.countplot(x='HighDeathRate',data=data, palette='hls')\n",
        "plt.show()\n",
        "plt.savefig('count_plot')"
      ],
      "metadata": {
        "colab": {
          "base_uri": "https://localhost:8080/",
          "height": 303
        },
        "id": "3OCsBH_Ov6zC",
        "outputId": "019c2adf-2eb6-4bf6-a259-e7dcdb43c0b5"
      },
      "execution_count": null,
      "outputs": [
        {
          "output_type": "display_data",
          "data": {
            "text/plain": [
              "<Figure size 432x288 with 1 Axes>"
            ],
            "image/png": "[encoded data removed]"
          },
          "metadata": {
            "needs_background": "light"
          }
        },
        {
          "output_type": "display_data",
          "data": {
            "text/plain": [
              "<Figure size 432x288 with 0 Axes>"
            ]
          },
          "metadata": {}
        }
      ]
    },
    {
      "cell_type": "code",
      "source": [
        "data.groupby('HighDeathRate').mean()"
      ],
      "metadata": {
        "colab": {
          "base_uri": "https://localhost:8080/",
          "height": 225
        },
        "id": "ZclS-tTTunrn",
        "outputId": "369529e2-0ef0-46ba-bedc-bd967ae32edf"
      },
      "execution_count": null,
      "outputs": [
        {
          "output_type": "execute_result",
          "data": {
            "text/plain": [
              "               RaceInInt  CountOfDeaths  DistributionOfdeaths(%)  \\\n",
              "HighDeathRate                                                      \n",
              "0               4.619573     123.822087                 1.306702   \n",
              "1               2.499077    3726.033487                42.744557   \n",
              "\n",
              "               UWPopDistribution(%)  WPopDistribution(%)  \\\n",
              "HighDeathRate                                              \n",
              "0                          2.665194             3.097144   \n",
              "1                         42.429889            41.388745   \n",
              "\n",
              "               COVID-19&UWPopDiff(%)  COVID-19&WPopDiff(%)   AgeInInt  \n",
              "HighDeathRate                                                          \n",
              "0                          -0.254265             -0.606321  52.701828  \n",
              "1                           0.314668              1.355812  50.984317  "
            ],
            "text/html": [
              "\n",
              "  <div id=\"df-76b37e8f-ff90-4765-b873-ece70918461a\">\n",
              "    <div class=\"colab-df-container\">\n",
              "      <div>\n",
              "<style scoped>\n",
              "    .dataframe tbody tr th:only-of-type {\n",
              "        vertical-align: middle;\n",
              "    }\n",
              "\n",
              "    .dataframe tbody tr th {\n",
              "        vertical-align: top;\n",
              "    }\n",
              "\n",
              "    .dataframe thead th {\n",
              "        text-align: right;\n",
              "    }\n",
              "</style>\n",
              "<table border=\"1\" class=\"dataframe\">\n",
              "  <thead>\n",
              "    <tr style=\"text-align: right;\">\n",
              "      <th></th>\n",
              "      <th>RaceInInt</th>\n",
              "      <th>CountOfDeaths</th>\n",
              "      <th>DistributionOfdeaths(%)</th>\n",
              "      <th>UWPopDistribution(%)</th>\n",
              "      <th>WPopDistribution(%)</th>\n",
              "      <th>COVID-19&amp;UWPopDiff(%)</th>\n",
              "      <th>COVID-19&amp;WPopDiff(%)</th>\n",
              "      <th>AgeInInt</th>\n",
              "    </tr>\n",
              "    <tr>\n",
              "      <th>HighDeathRate</th>\n",
              "      <th></th>\n",
              "      <th></th>\n",
              "      <th></th>\n",
              "      <th></th>\n",
              "      <th></th>\n",
              "      <th></th>\n",
              "      <th></th>\n",
              "      <th></th>\n",
              "    </tr>\n",
              "  </thead>\n",
              "  <tbody>\n",
              "    <tr>\n",
              "      <th>0</th>\n",
              "      <td>4.619573</td>\n",
              "      <td>123.822087</td>\n",
              "      <td>1.306702</td>\n",
              "      <td>2.665194</td>\n",
              "      <td>3.097144</td>\n",
              "      <td>-0.254265</td>\n",
              "      <td>-0.606321</td>\n",
              "      <td>52.701828</td>\n",
              "    </tr>\n",
              "    <tr>\n",
              "      <th>1</th>\n",
              "      <td>2.499077</td>\n",
              "      <td>3726.033487</td>\n",
              "      <td>42.744557</td>\n",
              "      <td>42.429889</td>\n",
              "      <td>41.388745</td>\n",
              "      <td>0.314668</td>\n",
              "      <td>1.355812</td>\n",
              "      <td>50.984317</td>\n",
              "    </tr>\n",
              "  </tbody>\n",
              "</table>\n",
              "</div>\n",
              "      <button class=\"colab-df-convert\" onclick=\"convertToInteractive('df-76b37e8f-ff90-4765-b873-ece70918461a')\"\n",
              "              title=\"Convert this dataframe to an interactive table.\"\n",
              "              style=\"display:none;\">\n",
              "        \n",
              "  <svg xmlns=\"http://www.w3.org/2000/svg\" height=\"24px\"viewBox=\"0 0 24 24\"\n",
              "       width=\"24px\">\n",
              "    <path d=\"M0 0h24v24H0V0z\" fill=\"none\"/>\n",
              "    <path d=\"M18.56 5.44l.94 2.06.94-2.06 2.06-.94-2.06-.94-.94-2.06-.94 2.06-2.06.94zm-11 1L8.5 8.5l.94-2.06 2.06-.94-2.06-.94L8.5 2.5l-.94 2.06-2.06.94zm10 10l.94 2.06.94-2.06 2.06-.94-2.06-.94-.94-2.06-.94 2.06-2.06.94z\"/><path d=\"M17.41 7.96l-1.37-1.37c-.4-.4-.92-.59-1.43-.59-.52 0-1.04.2-1.43.59L10.3 9.45l-7.72 7.72c-.78.78-.78 2.05 0 2.83L4 21.41c.39.39.9.59 1.41.59.51 0 1.02-.2 1.41-.59l7.78-7.78 2.81-2.81c.8-.78.8-2.07 0-2.86zM5.41 20L4 18.59l7.72-7.72 1.47 1.35L5.41 20z\"/>\n",
              "  </svg>\n",
              "      </button>\n",
              "      \n",
              "  <style>\n",
              "    .colab-df-container {\n",
              "      display:flex;\n",
              "      flex-wrap:wrap;\n",
              "      gap: 12px;\n",
              "    }\n",
              "\n",
              "    .colab-df-convert {\n",
              "      background-color: #E8F0FE;\n",
              "      border: none;\n",
              "      border-radius: 50%;\n",
              "      cursor: pointer;\n",
              "      display: none;\n",
              "      fill: #1967D2;\n",
              "      height: 32px;\n",
              "      padding: 0 0 0 0;\n",
              "      width: 32px;\n",
              "    }\n",
              "\n",
              "    .colab-df-convert:hover {\n",
              "      background-color: #E2EBFA;\n",
              "      box-shadow: 0px 1px 2px rgba(60, 64, 67, 0.3), 0px 1px 3px 1px rgba(60, 64, 67, 0.15);\n",
              "      fill: #174EA6;\n",
              "    }\n",
              "\n",
              "    [theme=dark] .colab-df-convert {\n",
              "      background-color: #3B4455;\n",
              "      fill: #D2E3FC;\n",
              "    }\n",
              "\n",
              "    [theme=dark] .colab-df-convert:hover {\n",
              "      background-color: #434B5C;\n",
              "      box-shadow: 0px 1px 3px 1px rgba(0, 0, 0, 0.15);\n",
              "      filter: drop-shadow(0px 1px 2px rgba(0, 0, 0, 0.3));\n",
              "      fill: #FFFFFF;\n",
              "    }\n",
              "  </style>\n",
              "\n",
              "      <script>\n",
              "        const buttonEl =\n",
              "          document.querySelector('#df-76b37e8f-ff90-4765-b873-ece70918461a button.colab-df-convert');\n",
              "        buttonEl.style.display =\n",
              "          google.colab.kernel.accessAllowed ? 'block' : 'none';\n",
              "\n",
              "        async function convertToInteractive(key) {\n",
              "          const element = document.querySelector('#df-76b37e8f-ff90-4765-b873-ece70918461a');\n",
              "          const dataTable =\n",
              "            await google.colab.kernel.invokeFunction('convertToInteractive',\n",
              "                                                     [key], {});\n",
              "          if (!dataTable) return;\n",
              "\n",
              "          const docLinkHtml = 'Like what you see? Visit the ' +\n",
              "            '<a target=\"_blank\" href=https://colab.research.google.com/notebooks/data_table.ipynb>data table notebook</a>'\n",
              "            + ' to learn more about interactive tables.';\n",
              "          element.innerHTML = '';\n",
              "          dataTable['output_type'] = 'display_data';\n",
              "          await google.colab.output.renderOutput(dataTable, element);\n",
              "          const docLink = document.createElement('div');\n",
              "          docLink.innerHTML = docLinkHtml;\n",
              "          element.appendChild(docLink);\n",
              "        }\n",
              "      </script>\n",
              "    </div>\n",
              "  </div>\n",
              "  "
            ]
          },
          "metadata": {},
          "execution_count": 121
        }
      ]
    },
    {
      "cell_type": "code",
      "source": [
        "data.groupby('Race').mean()"
      ],
      "metadata": {
        "colab": {
          "base_uri": "https://localhost:8080/",
          "height": 677
        },
        "id": "55cjUvyO9xpI",
        "outputId": "828a1355-d815-49e3-8652-dac5d62ecf4b"
      },
      "execution_count": null,
      "outputs": [
        {
          "output_type": "execute_result",
          "data": {
            "text/plain": [
              "                                                    RaceInInt  CountOfDeaths  \\\n",
              "Race                                                                           \n",
              "Hispanic                                                  6.0    1297.718302   \n",
              "Non-Hispanic American Indian or Alaska Native             3.0      89.318113   \n",
              "Non-Hispanic Asian                                        4.0     256.320566   \n",
              "Non-Hispanic Black                                        2.0    1165.069811   \n",
              "Non-Hispanic Native Hawaiian or Other Pacific I...        5.0      16.438113   \n",
              "Non-Hispanic White                                        1.0    5356.151509   \n",
              "Other                                                     7.0      53.280000   \n",
              "\n",
              "                                                    DistributionOfdeaths(%)  \\\n",
              "Race                                                                          \n",
              "Hispanic                                                          12.893019   \n",
              "Non-Hispanic American Indian or Alaska Native                      2.871698   \n",
              "Non-Hispanic Asian                                                 2.366981   \n",
              "Non-Hispanic Black                                                14.900943   \n",
              "Non-Hispanic Native Hawaiian or Other Pacific I...                 0.681698   \n",
              "Non-Hispanic White                                                59.326226   \n",
              "Other                                                              0.858491   \n",
              "\n",
              "                                                    HighDeathRate  \\\n",
              "Race                                                                \n",
              "Hispanic                                                 0.418868   \n",
              "Non-Hispanic American Indian or Alaska Native            0.094340   \n",
              "Non-Hispanic Asian                                       0.043396   \n",
              "Non-Hispanic Black                                       0.505660   \n",
              "Non-Hispanic Native Hawaiian or Other Pacific I...       0.016981   \n",
              "Non-Hispanic White                                       0.952830   \n",
              "Other                                                    0.013208   \n",
              "\n",
              "                                                    UWPopDistribution(%)  \\\n",
              "Race                                                                       \n",
              "Hispanic                                                       10.808868   \n",
              "Non-Hispanic American Indian or Alaska Native                   1.348491   \n",
              "Non-Hispanic Asian                                              4.524340   \n",
              "Non-Hispanic Black                                             10.650000   \n",
              "Non-Hispanic Native Hawaiian or Other Pacific I...              0.297736   \n",
              "Non-Hispanic White                                             70.298491   \n",
              "Other                                                           2.058491   \n",
              "\n",
              "                                                    WPopDistribution(%)  \\\n",
              "Race                                                                      \n",
              "Hispanic                                                      12.378679   \n",
              "Non-Hispanic American Indian or Alaska Native                  0.801132   \n",
              "Non-Hispanic Asian                                             5.746415   \n",
              "Non-Hispanic Black                                            13.892264   \n",
              "Non-Hispanic Native Hawaiian or Other Pacific I...             0.312075   \n",
              "Non-Hispanic White                                            64.773208   \n",
              "Other                                                          2.093396   \n",
              "\n",
              "                                                    COVID-19&UWPopDiff(%)  \\\n",
              "Race                                                                        \n",
              "Hispanic                                                         3.000755   \n",
              "Non-Hispanic American Indian or Alaska Native                    1.791132   \n",
              "Non-Hispanic Asian                                              -1.227736   \n",
              "Non-Hispanic Black                                               4.729245   \n",
              "Non-Hispanic Native Hawaiian or Other Pacific I...               0.450943   \n",
              "Non-Hispanic White                                              -8.992830   \n",
              "Other                                                           -0.367736   \n",
              "\n",
              "                                                    COVID-19&WPopDiff(%)  \\\n",
              "Race                                                                       \n",
              "Hispanic                                                        1.519811   \n",
              "Non-Hispanic American Indian or Alaska Native                   2.239811   \n",
              "Non-Hispanic Asian                                             -2.183585   \n",
              "Non-Hispanic Black                                              1.668491   \n",
              "Non-Hispanic Native Hawaiian or Other Pacific I...              0.444340   \n",
              "Non-Hispanic White                                             -3.530755   \n",
              "Other                                                          -0.389245   \n",
              "\n",
              "                                                    AgeInInt  \n",
              "Race                                                          \n",
              "Hispanic                                                52.2  \n",
              "Non-Hispanic American Indian or Alaska Native           52.2  \n",
              "Non-Hispanic Asian                                      52.2  \n",
              "Non-Hispanic Black                                      52.2  \n",
              "Non-Hispanic Native Hawaiian or Other Pacific I...      52.2  \n",
              "Non-Hispanic White                                      52.2  \n",
              "Other                                                   52.2  "
            ],
            "text/html": [
              "\n",
              "  <div id=\"df-02b530fb-20d0-4984-be00-52d32dd2571a\">\n",
              "    <div class=\"colab-df-container\">\n",
              "      <div>\n",
              "<style scoped>\n",
              "    .dataframe tbody tr th:only-of-type {\n",
              "        vertical-align: middle;\n",
              "    }\n",
              "\n",
              "    .dataframe tbody tr th {\n",
              "        vertical-align: top;\n",
              "    }\n",
              "\n",
              "    .dataframe thead th {\n",
              "        text-align: right;\n",
              "    }\n",
              "</style>\n",
              "<table border=\"1\" class=\"dataframe\">\n",
              "  <thead>\n",
              "    <tr style=\"text-align: right;\">\n",
              "      <th></th>\n",
              "      <th>RaceInInt</th>\n",
              "      <th>CountOfDeaths</th>\n",
              "      <th>DistributionOfdeaths(%)</th>\n",
              "      <th>HighDeathRate</th>\n",
              "      <th>UWPopDistribution(%)</th>\n",
              "      <th>WPopDistribution(%)</th>\n",
              "      <th>COVID-19&amp;UWPopDiff(%)</th>\n",
              "      <th>COVID-19&amp;WPopDiff(%)</th>\n",
              "      <th>AgeInInt</th>\n",
              "    </tr>\n",
              "    <tr>\n",
              "      <th>Race</th>\n",
              "      <th></th>\n",
              "      <th></th>\n",
              "      <th></th>\n",
              "      <th></th>\n",
              "      <th></th>\n",
              "      <th></th>\n",
              "      <th></th>\n",
              "      <th></th>\n",
              "      <th></th>\n",
              "    </tr>\n",
              "  </thead>\n",
              "  <tbody>\n",
              "    <tr>\n",
              "      <th>Hispanic</th>\n",
              "      <td>6.0</td>\n",
              "      <td>1297.718302</td>\n",
              "      <td>12.893019</td>\n",
              "      <td>0.418868</td>\n",
              "      <td>10.808868</td>\n",
              "      <td>12.378679</td>\n",
              "      <td>3.000755</td>\n",
              "      <td>1.519811</td>\n",
              "      <td>52.2</td>\n",
              "    </tr>\n",
              "    <tr>\n",
              "      <th>Non-Hispanic American Indian or Alaska Native</th>\n",
              "      <td>3.0</td>\n",
              "      <td>89.318113</td>\n",
              "      <td>2.871698</td>\n",
              "      <td>0.094340</td>\n",
              "      <td>1.348491</td>\n",
              "      <td>0.801132</td>\n",
              "      <td>1.791132</td>\n",
              "      <td>2.239811</td>\n",
              "      <td>52.2</td>\n",
              "    </tr>\n",
              "    <tr>\n",
              "      <th>Non-Hispanic Asian</th>\n",
              "      <td>4.0</td>\n",
              "      <td>256.320566</td>\n",
              "      <td>2.366981</td>\n",
              "      <td>0.043396</td>\n",
              "      <td>4.524340</td>\n",
              "      <td>5.746415</td>\n",
              "      <td>-1.227736</td>\n",
              "      <td>-2.183585</td>\n",
              "      <td>52.2</td>\n",
              "    </tr>\n",
              "    <tr>\n",
              "      <th>Non-Hispanic Black</th>\n",
              "      <td>2.0</td>\n",
              "      <td>1165.069811</td>\n",
              "      <td>14.900943</td>\n",
              "      <td>0.505660</td>\n",
              "      <td>10.650000</td>\n",
              "      <td>13.892264</td>\n",
              "      <td>4.729245</td>\n",
              "      <td>1.668491</td>\n",
              "      <td>52.2</td>\n",
              "    </tr>\n",
              "    <tr>\n",
              "      <th>Non-Hispanic Native Hawaiian or Other Pacific Islander</th>\n",
              "      <td>5.0</td>\n",
              "      <td>16.438113</td>\n",
              "      <td>0.681698</td>\n",
              "      <td>0.016981</td>\n",
              "      <td>0.297736</td>\n",
              "      <td>0.312075</td>\n",
              "      <td>0.450943</td>\n",
              "      <td>0.444340</td>\n",
              "      <td>52.2</td>\n",
              "    </tr>\n",
              "    <tr>\n",
              "      <th>Non-Hispanic White</th>\n",
              "      <td>1.0</td>\n",
              "      <td>5356.151509</td>\n",
              "      <td>59.326226</td>\n",
              "      <td>0.952830</td>\n",
              "      <td>70.298491</td>\n",
              "      <td>64.773208</td>\n",
              "      <td>-8.992830</td>\n",
              "      <td>-3.530755</td>\n",
              "      <td>52.2</td>\n",
              "    </tr>\n",
              "    <tr>\n",
              "      <th>Other</th>\n",
              "      <td>7.0</td>\n",
              "      <td>53.280000</td>\n",
              "      <td>0.858491</td>\n",
              "      <td>0.013208</td>\n",
              "      <td>2.058491</td>\n",
              "      <td>2.093396</td>\n",
              "      <td>-0.367736</td>\n",
              "      <td>-0.389245</td>\n",
              "      <td>52.2</td>\n",
              "    </tr>\n",
              "  </tbody>\n",
              "</table>\n",
              "</div>\n",
              "      <button class=\"colab-df-convert\" onclick=\"convertToInteractive('df-02b530fb-20d0-4984-be00-52d32dd2571a')\"\n",
              "              title=\"Convert this dataframe to an interactive table.\"\n",
              "              style=\"display:none;\">\n",
              "        \n",
              "  <svg xmlns=\"http://www.w3.org/2000/svg\" height=\"24px\"viewBox=\"0 0 24 24\"\n",
              "       width=\"24px\">\n",
              "    <path d=\"M0 0h24v24H0V0z\" fill=\"none\"/>\n",
              "    <path d=\"M18.56 5.44l.94 2.06.94-2.06 2.06-.94-2.06-.94-.94-2.06-.94 2.06-2.06.94zm-11 1L8.5 8.5l.94-2.06 2.06-.94-2.06-.94L8.5 2.5l-.94 2.06-2.06.94zm10 10l.94 2.06.94-2.06 2.06-.94-2.06-.94-.94-2.06-.94 2.06-2.06.94z\"/><path d=\"M17.41 7.96l-1.37-1.37c-.4-.4-.92-.59-1.43-.59-.52 0-1.04.2-1.43.59L10.3 9.45l-7.72 7.72c-.78.78-.78 2.05 0 2.83L4 21.41c.39.39.9.59 1.41.59.51 0 1.02-.2 1.41-.59l7.78-7.78 2.81-2.81c.8-.78.8-2.07 0-2.86zM5.41 20L4 18.59l7.72-7.72 1.47 1.35L5.41 20z\"/>\n",
              "  </svg>\n",
              "      </button>\n",
              "      \n",
              "  <style>\n",
              "    .colab-df-container {\n",
              "      display:flex;\n",
              "      flex-wrap:wrap;\n",
              "      gap: 12px;\n",
              "    }\n",
              "\n",
              "    .colab-df-convert {\n",
              "      background-color: #E8F0FE;\n",
              "      border: none;\n",
              "      border-radius: 50%;\n",
              "      cursor: pointer;\n",
              "      display: none;\n",
              "      fill: #1967D2;\n",
              "      height: 32px;\n",
              "      padding: 0 0 0 0;\n",
              "      width: 32px;\n",
              "    }\n",
              "\n",
              "    .colab-df-convert:hover {\n",
              "      background-color: #E2EBFA;\n",
              "      box-shadow: 0px 1px 2px rgba(60, 64, 67, 0.3), 0px 1px 3px 1px rgba(60, 64, 67, 0.15);\n",
              "      fill: #174EA6;\n",
              "    }\n",
              "\n",
              "    [theme=dark] .colab-df-convert {\n",
              "      background-color: #3B4455;\n",
              "      fill: #D2E3FC;\n",
              "    }\n",
              "\n",
              "    [theme=dark] .colab-df-convert:hover {\n",
              "      background-color: #434B5C;\n",
              "      box-shadow: 0px 1px 3px 1px rgba(0, 0, 0, 0.15);\n",
              "      filter: drop-shadow(0px 1px 2px rgba(0, 0, 0, 0.3));\n",
              "      fill: #FFFFFF;\n",
              "    }\n",
              "  </style>\n",
              "\n",
              "      <script>\n",
              "        const buttonEl =\n",
              "          document.querySelector('#df-02b530fb-20d0-4984-be00-52d32dd2571a button.colab-df-convert');\n",
              "        buttonEl.style.display =\n",
              "          google.colab.kernel.accessAllowed ? 'block' : 'none';\n",
              "\n",
              "        async function convertToInteractive(key) {\n",
              "          const element = document.querySelector('#df-02b530fb-20d0-4984-be00-52d32dd2571a');\n",
              "          const dataTable =\n",
              "            await google.colab.kernel.invokeFunction('convertToInteractive',\n",
              "                                                     [key], {});\n",
              "          if (!dataTable) return;\n",
              "\n",
              "          const docLinkHtml = 'Like what you see? Visit the ' +\n",
              "            '<a target=\"_blank\" href=https://colab.research.google.com/notebooks/data_table.ipynb>data table notebook</a>'\n",
              "            + ' to learn more about interactive tables.';\n",
              "          element.innerHTML = '';\n",
              "          dataTable['output_type'] = 'display_data';\n",
              "          await google.colab.output.renderOutput(dataTable, element);\n",
              "          const docLink = document.createElement('div');\n",
              "          docLink.innerHTML = docLinkHtml;\n",
              "          element.appendChild(docLink);\n",
              "        }\n",
              "      </script>\n",
              "    </div>\n",
              "  </div>\n",
              "  "
            ]
          },
          "metadata": {},
          "execution_count": 123
        }
      ]
    },
    {
      "cell_type": "code",
      "source": [
        "data.groupby('AgeGroup').mean()"
      ],
      "metadata": {
        "colab": {
          "base_uri": "https://localhost:8080/",
          "height": 528
        },
        "id": "rkrtSYaiH2P_",
        "outputId": "a0678a4e-50fa-4ab7-cefc-3b7c700372d5"
      },
      "execution_count": null,
      "outputs": [
        {
          "output_type": "execute_result",
          "data": {
            "text/plain": [
              "                        RaceInInt  CountOfDeaths  DistributionOfdeaths(%)  \\\n",
              "AgeGroup                                                                    \n",
              "0-24 years                    4.0      19.345013                 9.472776   \n",
              "25-34 years                   4.0      62.024259                11.889757   \n",
              "35-44 years                   4.0     154.471698                13.589757   \n",
              "45-54 years                   4.0     370.501348                13.972237   \n",
              "55-64 years                   4.0     822.681941                14.150674   \n",
              "65-74 years                   4.0    1299.102426                14.208895   \n",
              "75-84 years                   4.0    1479.692722                14.198922   \n",
              "85 years and over             4.0    1500.514825                14.211051   \n",
              "All ages, standardized        4.0     338.550135                14.174933   \n",
              "All ages, unadjusted          4.0    5716.396226                14.272507   \n",
              "\n",
              "                        HighDeathRate  UWPopDistribution(%)  \\\n",
              "AgeGroup                                                      \n",
              "0-24 years                   0.245283             14.285714   \n",
              "25-34 years                  0.312668             14.282749   \n",
              "35-44 years                  0.345013             14.282749   \n",
              "45-54 years                  0.339623             14.284636   \n",
              "55-64 years                  0.320755             14.284367   \n",
              "65-74 years                  0.283019             14.285445   \n",
              "75-84 years                  0.245283             14.284906   \n",
              "85 years and over            0.218329             14.281671   \n",
              "All ages, standardized       0.339623             14.282480   \n",
              "All ages, unadjusted         0.272237             14.283019   \n",
              "\n",
              "                        WPopDistribution(%)  COVID-19&UWPopDiff(%)  \\\n",
              "AgeGroup                                                             \n",
              "0-24 years                        14.287601              -0.866038   \n",
              "25-34 years                       14.285714              -0.241779   \n",
              "35-44 years                       14.286253               0.114555   \n",
              "45-54 years                       14.284097               0.040970   \n",
              "55-64 years                       14.283827               0.020755   \n",
              "65-74 years                       14.285984               0.018329   \n",
              "75-84 years                       14.287062               0.016442   \n",
              "85 years and over                 14.281402               0.053100   \n",
              "All ages, standardized            14.286792              -0.074933   \n",
              "All ages, unadjusted              14.284367               0.038275   \n",
              "\n",
              "                        COVID-19&WPopDiff(%)  AgeInInt  \n",
              "AgeGroup                                                \n",
              "0-24 years                         -0.626146      12.0  \n",
              "25-34 years                        -0.140701      30.0  \n",
              "35-44 years                         0.219407      40.0  \n",
              "45-54 years                         0.115094      50.0  \n",
              "55-64 years                         0.046361      60.0  \n",
              "65-74 years                         0.025067      70.0  \n",
              "75-84 years                         0.020216      80.0  \n",
              "85 years and over                   0.040701      90.0  \n",
              "All ages, standardized             -0.077089      45.0  \n",
              "All ages, unadjusted                0.046900      45.0  "
            ],
            "text/html": [
              "\n",
              "  <div id=\"df-eae3bcdd-1100-4329-bbab-278cbabdfd7c\">\n",
              "    <div class=\"colab-df-container\">\n",
              "      <div>\n",
              "<style scoped>\n",
              "    .dataframe tbody tr th:only-of-type {\n",
              "        vertical-align: middle;\n",
              "    }\n",
              "\n",
              "    .dataframe tbody tr th {\n",
              "        vertical-align: top;\n",
              "    }\n",
              "\n",
              "    .dataframe thead th {\n",
              "        text-align: right;\n",
              "    }\n",
              "</style>\n",
              "<table border=\"1\" class=\"dataframe\">\n",
              "  <thead>\n",
              "    <tr style=\"text-align: right;\">\n",
              "      <th></th>\n",
              "      <th>RaceInInt</th>\n",
              "      <th>CountOfDeaths</th>\n",
              "      <th>DistributionOfdeaths(%)</th>\n",
              "      <th>HighDeathRate</th>\n",
              "      <th>UWPopDistribution(%)</th>\n",
              "      <th>WPopDistribution(%)</th>\n",
              "      <th>COVID-19&amp;UWPopDiff(%)</th>\n",
              "      <th>COVID-19&amp;WPopDiff(%)</th>\n",
              "      <th>AgeInInt</th>\n",
              "    </tr>\n",
              "    <tr>\n",
              "      <th>AgeGroup</th>\n",
              "      <th></th>\n",
              "      <th></th>\n",
              "      <th></th>\n",
              "      <th></th>\n",
              "      <th></th>\n",
              "      <th></th>\n",
              "      <th></th>\n",
              "      <th></th>\n",
              "      <th></th>\n",
              "    </tr>\n",
              "  </thead>\n",
              "  <tbody>\n",
              "    <tr>\n",
              "      <th>0-24 years</th>\n",
              "      <td>4.0</td>\n",
              "      <td>19.345013</td>\n",
              "      <td>9.472776</td>\n",
              "      <td>0.245283</td>\n",
              "      <td>14.285714</td>\n",
              "      <td>14.287601</td>\n",
              "      <td>-0.866038</td>\n",
              "      <td>-0.626146</td>\n",
              "      <td>12.0</td>\n",
              "    </tr>\n",
              "    <tr>\n",
              "      <th>25-34 years</th>\n",
              "      <td>4.0</td>\n",
              "      <td>62.024259</td>\n",
              "      <td>11.889757</td>\n",
              "      <td>0.312668</td>\n",
              "      <td>14.282749</td>\n",
              "      <td>14.285714</td>\n",
              "      <td>-0.241779</td>\n",
              "      <td>-0.140701</td>\n",
              "      <td>30.0</td>\n",
              "    </tr>\n",
              "    <tr>\n",
              "      <th>35-44 years</th>\n",
              "      <td>4.0</td>\n",
              "      <td>154.471698</td>\n",
              "      <td>13.589757</td>\n",
              "      <td>0.345013</td>\n",
              "      <td>14.282749</td>\n",
              "      <td>14.286253</td>\n",
              "      <td>0.114555</td>\n",
              "      <td>0.219407</td>\n",
              "      <td>40.0</td>\n",
              "    </tr>\n",
              "    <tr>\n",
              "      <th>45-54 years</th>\n",
              "      <td>4.0</td>\n",
              "      <td>370.501348</td>\n",
              "      <td>13.972237</td>\n",
              "      <td>0.339623</td>\n",
              "      <td>14.284636</td>\n",
              "      <td>14.284097</td>\n",
              "      <td>0.040970</td>\n",
              "      <td>0.115094</td>\n",
              "      <td>50.0</td>\n",
              "    </tr>\n",
              "    <tr>\n",
              "      <th>55-64 years</th>\n",
              "      <td>4.0</td>\n",
              "      <td>822.681941</td>\n",
              "      <td>14.150674</td>\n",
              "      <td>0.320755</td>\n",
              "      <td>14.284367</td>\n",
              "      <td>14.283827</td>\n",
              "      <td>0.020755</td>\n",
              "      <td>0.046361</td>\n",
              "      <td>60.0</td>\n",
              "    </tr>\n",
              "    <tr>\n",
              "      <th>65-74 years</th>\n",
              "      <td>4.0</td>\n",
              "      <td>1299.102426</td>\n",
              "      <td>14.208895</td>\n",
              "      <td>0.283019</td>\n",
              "      <td>14.285445</td>\n",
              "      <td>14.285984</td>\n",
              "      <td>0.018329</td>\n",
              "      <td>0.025067</td>\n",
              "      <td>70.0</td>\n",
              "    </tr>\n",
              "    <tr>\n",
              "      <th>75-84 years</th>\n",
              "      <td>4.0</td>\n",
              "      <td>1479.692722</td>\n",
              "      <td>14.198922</td>\n",
              "      <td>0.245283</td>\n",
              "      <td>14.284906</td>\n",
              "      <td>14.287062</td>\n",
              "      <td>0.016442</td>\n",
              "      <td>0.020216</td>\n",
              "      <td>80.0</td>\n",
              "    </tr>\n",
              "    <tr>\n",
              "      <th>85 years and over</th>\n",
              "      <td>4.0</td>\n",
              "      <td>1500.514825</td>\n",
              "      <td>14.211051</td>\n",
              "      <td>0.218329</td>\n",
              "      <td>14.281671</td>\n",
              "      <td>14.281402</td>\n",
              "      <td>0.053100</td>\n",
              "      <td>0.040701</td>\n",
              "      <td>90.0</td>\n",
              "    </tr>\n",
              "    <tr>\n",
              "      <th>All ages, standardized</th>\n",
              "      <td>4.0</td>\n",
              "      <td>338.550135</td>\n",
              "      <td>14.174933</td>\n",
              "      <td>0.339623</td>\n",
              "      <td>14.282480</td>\n",
              "      <td>14.286792</td>\n",
              "      <td>-0.074933</td>\n",
              "      <td>-0.077089</td>\n",
              "      <td>45.0</td>\n",
              "    </tr>\n",
              "    <tr>\n",
              "      <th>All ages, unadjusted</th>\n",
              "      <td>4.0</td>\n",
              "      <td>5716.396226</td>\n",
              "      <td>14.272507</td>\n",
              "      <td>0.272237</td>\n",
              "      <td>14.283019</td>\n",
              "      <td>14.284367</td>\n",
              "      <td>0.038275</td>\n",
              "      <td>0.046900</td>\n",
              "      <td>45.0</td>\n",
              "    </tr>\n",
              "  </tbody>\n",
              "</table>\n",
              "</div>\n",
              "      <button class=\"colab-df-convert\" onclick=\"convertToInteractive('df-eae3bcdd-1100-4329-bbab-278cbabdfd7c')\"\n",
              "              title=\"Convert this dataframe to an interactive table.\"\n",
              "              style=\"display:none;\">\n",
              "        \n",
              "  <svg xmlns=\"http://www.w3.org/2000/svg\" height=\"24px\"viewBox=\"0 0 24 24\"\n",
              "       width=\"24px\">\n",
              "    <path d=\"M0 0h24v24H0V0z\" fill=\"none\"/>\n",
              "    <path d=\"M18.56 5.44l.94 2.06.94-2.06 2.06-.94-2.06-.94-.94-2.06-.94 2.06-2.06.94zm-11 1L8.5 8.5l.94-2.06 2.06-.94-2.06-.94L8.5 2.5l-.94 2.06-2.06.94zm10 10l.94 2.06.94-2.06 2.06-.94-2.06-.94-.94-2.06-.94 2.06-2.06.94z\"/><path d=\"M17.41 7.96l-1.37-1.37c-.4-.4-.92-.59-1.43-.59-.52 0-1.04.2-1.43.59L10.3 9.45l-7.72 7.72c-.78.78-.78 2.05 0 2.83L4 21.41c.39.39.9.59 1.41.59.51 0 1.02-.2 1.41-.59l7.78-7.78 2.81-2.81c.8-.78.8-2.07 0-2.86zM5.41 20L4 18.59l7.72-7.72 1.47 1.35L5.41 20z\"/>\n",
              "  </svg>\n",
              "      </button>\n",
              "      \n",
              "  <style>\n",
              "    .colab-df-container {\n",
              "      display:flex;\n",
              "      flex-wrap:wrap;\n",
              "      gap: 12px;\n",
              "    }\n",
              "\n",
              "    .colab-df-convert {\n",
              "      background-color: #E8F0FE;\n",
              "      border: none;\n",
              "      border-radius: 50%;\n",
              "      cursor: pointer;\n",
              "      display: none;\n",
              "      fill: #1967D2;\n",
              "      height: 32px;\n",
              "      padding: 0 0 0 0;\n",
              "      width: 32px;\n",
              "    }\n",
              "\n",
              "    .colab-df-convert:hover {\n",
              "      background-color: #E2EBFA;\n",
              "      box-shadow: 0px 1px 2px rgba(60, 64, 67, 0.3), 0px 1px 3px 1px rgba(60, 64, 67, 0.15);\n",
              "      fill: #174EA6;\n",
              "    }\n",
              "\n",
              "    [theme=dark] .colab-df-convert {\n",
              "      background-color: #3B4455;\n",
              "      fill: #D2E3FC;\n",
              "    }\n",
              "\n",
              "    [theme=dark] .colab-df-convert:hover {\n",
              "      background-color: #434B5C;\n",
              "      box-shadow: 0px 1px 3px 1px rgba(0, 0, 0, 0.15);\n",
              "      filter: drop-shadow(0px 1px 2px rgba(0, 0, 0, 0.3));\n",
              "      fill: #FFFFFF;\n",
              "    }\n",
              "  </style>\n",
              "\n",
              "      <script>\n",
              "        const buttonEl =\n",
              "          document.querySelector('#df-eae3bcdd-1100-4329-bbab-278cbabdfd7c button.colab-df-convert');\n",
              "        buttonEl.style.display =\n",
              "          google.colab.kernel.accessAllowed ? 'block' : 'none';\n",
              "\n",
              "        async function convertToInteractive(key) {\n",
              "          const element = document.querySelector('#df-eae3bcdd-1100-4329-bbab-278cbabdfd7c');\n",
              "          const dataTable =\n",
              "            await google.colab.kernel.invokeFunction('convertToInteractive',\n",
              "                                                     [key], {});\n",
              "          if (!dataTable) return;\n",
              "\n",
              "          const docLinkHtml = 'Like what you see? Visit the ' +\n",
              "            '<a target=\"_blank\" href=https://colab.research.google.com/notebooks/data_table.ipynb>data table notebook</a>'\n",
              "            + ' to learn more about interactive tables.';\n",
              "          element.innerHTML = '';\n",
              "          dataTable['output_type'] = 'display_data';\n",
              "          await google.colab.output.renderOutput(dataTable, element);\n",
              "          const docLink = document.createElement('div');\n",
              "          docLink.innerHTML = docLinkHtml;\n",
              "          element.appendChild(docLink);\n",
              "        }\n",
              "      </script>\n",
              "    </div>\n",
              "  </div>\n",
              "  "
            ]
          },
          "metadata": {},
          "execution_count": 124
        }
      ]
    },
    {
      "cell_type": "code",
      "source": [
        "%matplotlib inline\n",
        "pd.crosstab(data.Race,data.HighDeathRate).plot(kind='bar')\n",
        "plt.title('DeathRate Between Races')\n",
        "plt.xlabel('Race')\n",
        "plt.ylabel('CountOfDeaths')\n",
        "plt.savefig('DthRate_Race_RIP')"
      ],
      "metadata": {
        "colab": {
          "base_uri": "https://localhost:8080/",
          "height": 594
        },
        "id": "YvpGo6y_MjYA",
        "outputId": "bc7ce768-7c77-46e4-a06c-bcb9d3b39c7b"
      },
      "execution_count": null,
      "outputs": [
        {
          "output_type": "display_data",
          "data": {
            "text/plain": [
              "<Figure size 432x288 with 1 Axes>"
            ],
            "image/png": "[encoded data removed]"
          },
          "metadata": {
            "needs_background": "light"
          }
        }
      ]
    },
    {
      "cell_type": "code",
      "source": [
        "%matplotlib inline\n",
        "pd.crosstab(data.State,data.HighDeathRate).plot(kind='bar')\n",
        "plt.title('DeathRate Between States')\n",
        "plt.xlabel('State')\n",
        "plt.ylabel('CountOfDeaths')\n",
        "plt.savefig('DthRate_States_RIP')"
      ],
      "metadata": {
        "colab": {
          "base_uri": "https://localhost:8080/",
          "height": 401
        },
        "id": "LqKf5OwKNmmj",
        "outputId": "4e660edb-2e63-4da1-dc97-b70723ae34ce"
      },
      "execution_count": null,
      "outputs": [
        {
          "output_type": "display_data",
          "data": {
            "text/plain": [
              "<Figure size 432x288 with 1 Axes>"
            ],
            "image/png": "[encoded data removed]"
          },
          "metadata": {
            "needs_background": "light"
          }
        }
      ]
    },
    {
      "cell_type": "code",
      "source": [
        "%matplotlib inline\n",
        "pd.crosstab(data.AgeGroup,data.HighDeathRate).plot(kind='bar')\n",
        "plt.title('DeathRate Between Ages')\n",
        "plt.xlabel('AgeGroup')\n",
        "plt.ylabel('CountOfDeaths')\n",
        "plt.savefig('DthRate_Age_RIP')"
      ],
      "metadata": {
        "colab": {
          "base_uri": "https://localhost:8080/",
          "height": 413
        },
        "id": "pAXcz7mSOH_A",
        "outputId": "cf61b1f3-a7c7-4a04-9b30-d2e4f0a3b032"
      },
      "execution_count": null,
      "outputs": [
        {
          "output_type": "display_data",
          "data": {
            "text/plain": [
              "<Figure size 432x288 with 1 Axes>"
            ],
            "image/png": "[encoded data removed]"
          },
          "metadata": {
            "needs_background": "light"
          }
        }
      ]
    },
    {
      "cell_type": "code",
      "source": [
        "table=pd.crosstab(data.Race,data.HighDeathRate)\n",
        "table.div(table.sum(1).astype(float), axis=0).plot(kind='bar', stacked=True)\n",
        "plt.title('Stacked Bar Chart of Races vs Death Rate')\n",
        "plt.xlabel('Race')\n",
        "plt.ylabel('HighDeathRate')\n",
        "plt.savefig('Race_vs_DthRate_RIP')"
      ],
      "metadata": {
        "colab": {
          "base_uri": "https://localhost:8080/",
          "height": 594
        },
        "id": "dNzn3dI0OXfb",
        "outputId": "d05d2f48-00a8-43ca-c5af-5b1e3bd5783d"
      },
      "execution_count": null,
      "outputs": [
        {
          "output_type": "display_data",
          "data": {
            "text/plain": [
              "<Figure size 432x288 with 1 Axes>"
            ],
            "image/png": "[encoded data removed]"
          },
          "metadata": {
            "needs_background": "light"
          }
        }
      ]
    },
    {
      "cell_type": "code",
      "source": [
        "table=pd.crosstab(data.AgeGroup,data.HighDeathRate)\n",
        "table.div(table.sum(1).astype(float), axis=0).plot(kind='bar', stacked=True)\n",
        "plt.title('Stacked Bar Chart of Age vs Death Rate')\n",
        "plt.xlabel('AgeGroup')\n",
        "plt.ylabel('HighDeathRate')\n",
        "plt.savefig('Age_vs_DthRate_RIP')"
      ],
      "metadata": {
        "colab": {
          "base_uri": "https://localhost:8080/",
          "height": 413
        },
        "id": "vHaBlHlRPQJA",
        "outputId": "1bf81f5e-08b6-4dce-b614-f9ecaac109c2"
      },
      "execution_count": 136,
      "outputs": [
        {
          "output_type": "display_data",
          "data": {
            "text/plain": [
              "<Figure size 432x288 with 1 Axes>"
            ],
            "image/png": "[encoded data removed]"
          },
          "metadata": {
            "needs_background": "light"
          }
        }
      ]
    },
    {
      "cell_type": "code",
      "source": [
        "cat_vars=['State','Race','RaceInInt','CountOfDeaths','DistributionOfdeaths(%)','HighDeathRate','UWPopDistribution(%)',\n",
        "          'WPopDistribution(%)','COVID-19&UWPopDiff(%)','COVID-19&WPopDiff(%)','AgeGroup','AgeInInt']\n",
        "for var in cat_vars:\n",
        "    cat_list='var'+'_'+var\n",
        "    cat_list = pd.get_dummies(data[var], prefix=var)\n",
        "    data1=data.join(cat_list)\n",
        "    data=data1"
      ],
      "metadata": {
        "id": "m5YYybEFW9Z3"
      },
      "execution_count": 137,
      "outputs": []
    },
    {
      "cell_type": "code",
      "source": [
        "cat_vars=['State','Race','RaceInInt','CountOfDeaths','DistributionOfdeaths(%)','HighDeathRate','UWPopDistribution(%)',\n",
        "          'WPopDistribution(%)','COVID-19&UWPopDiff(%)','COVID-19&WPopDiff(%)','AgeGroup','AgeInInt']\n",
        "data_vars=data.columns.values.tolist()\n",
        "to_keep=[i for i in data_vars if i not in cat_vars]"
      ],
      "metadata": {
        "id": "ZbhpRGS7XeHX"
      },
      "execution_count": 138,
      "outputs": []
    },
    {
      "cell_type": "code",
      "source": [
        "data_final=data[to_keep]\n",
        "data_final.columns.values"
      ],
      "metadata": {
        "colab": {
          "base_uri": "https://localhost:8080/"
        },
        "id": "cp_avSrXXjJX",
        "outputId": "47bce69c-85ae-4b14-c545-d5d275bb9d74"
      },
      "execution_count": 165,
      "outputs": [
        {
          "output_type": "execute_result",
          "data": {
            "text/plain": [
              "array(['Data as of', 'Start Date', 'End Date', ..., 'AgeInInt_70',\n",
              "       'AgeInInt_80', 'AgeInInt_90'], dtype=object)"
            ]
          },
          "metadata": {},
          "execution_count": 165
        }
      ]
    },
    {
      "cell_type": "code",
      "source": [
        "data_final_vars=data_final.columns.values.tolist()\n",
        "y= ['HighDeathRate']\n",
        "X=[i for i in data_final_vars if i not in y]"
      ],
      "metadata": {
        "id": "uG1p95caXqmA"
      },
      "execution_count": 156,
      "outputs": []
    }
  ]
}